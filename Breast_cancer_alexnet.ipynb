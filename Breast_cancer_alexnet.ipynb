{
  "nbformat": 4,
  "nbformat_minor": 0,
  "metadata": {
    "colab": {
      "provenance": [],
      "authorship_tag": "ABX9TyOXKhf9rcumVFU/DMwsrxut",
      "include_colab_link": true
    },
    "kernelspec": {
      "name": "python3",
      "display_name": "Python 3"
    },
    "language_info": {
      "name": "python"
    }
  },
  "cells": [
    {
      "cell_type": "markdown",
      "metadata": {
        "id": "view-in-github",
        "colab_type": "text"
      },
      "source": [
        "<a href=\"https://colab.research.google.com/github/Abhishekjain113/Breast_cancer_dictation_CNN/blob/main/Breast_cancer_alexnet.ipynb\" target=\"_parent\"><img src=\"https://colab.research.google.com/assets/colab-badge.svg\" alt=\"Open In Colab\"/></a>"
      ]
    },
    {
      "cell_type": "code",
      "source": [
        "\n",
        "# importing google drive\n",
        "from google.colab import drive\n",
        "drive.mount('/content/drive')\n",
        "     \n",
        "  # This Python 3 environment comes with many helpful analytics libraries installed\n",
        "\n",
        "import numpy as np # linear algebra\n",
        "import pandas as pd # data processing, CSV file I/O (e.g. pd.read_csv)\n",
        "import matplotlib.pyplot as plt\n",
        "import seaborn as sns\n",
        "\n",
        "import os\n",
        "\n",
        "#required libraries\n",
        "import cv2\n",
        "from tqdm import tqdm\n",
        "from sklearn.metrics import confusion_matrix\n",
        "from sklearn.model_selection import train_test_split\n",
        "from tensorflow.keras.layers import Input\n",
        "from keras.utils.np_utils import to_categorical\n",
        "from keras.models import Model, Sequential, load_model\n",
        "from keras.layers import Dense, Dropout, Flatten, Conv2D, MaxPooling2D, BatchNormalization, AveragePooling2D, GlobalAveragePooling2D,Activation\n",
        "from tensorflow.keras.optimizers.legacy import Adam\n",
        "from keras.preprocessing.image import ImageDataGenerator\n",
        "from keras.callbacks import ModelCheckpoint, ReduceLROnPlateau\n",
        "from keras.applications import DenseNet121\n",
        "from keras.models import Sequential\n",
        "import tensorflow as tf\n",
        "from tensorflow import keras\n",
        "from tensorflow.keras import layers\n",
        "import PIL\n"
      ],
      "metadata": {
        "colab": {
          "base_uri": "https://localhost:8080/"
        },
        "id": "zpZ-nMPwyIhD",
        "outputId": "d6d8e559-6f7d-4347-fb6f-0f03a3eee615"
      },
      "execution_count": 6,
      "outputs": [
        {
          "output_type": "stream",
          "name": "stdout",
          "text": [
            "Mounted at /content/drive\n"
          ]
        }
      ]
    },
    {
      "cell_type": "code",
      "source": [
        "\n",
        "classes_types=['M', 'B','N']\n",
        "data_dir = '//content/drive/MyDrive/Internship/Breast_Cancer_Dataset'\n",
        "train_dir = os.path.join(data_dir)\n",
        "\n",
        "     "
      ],
      "metadata": {
        "id": "9dlhpWzXyxf_"
      },
      "execution_count": 7,
      "outputs": []
    },
    {
      "cell_type": "code",
      "source": [
        "train_data = []\n",
        "for defects_id, sp in enumerate(classes_types):\n",
        "    for file in os.listdir(os.path.join(train_dir, sp)):\n",
        "        train_data.append(['{}/{}'.format(sp, file), defects_id, sp])\n",
        "        \n",
        "train = pd.DataFrame(train_data, columns=['File', 'Class ID','Class Type'])\n",
        "train.head()\n"
      ],
      "metadata": {
        "colab": {
          "base_uri": "https://localhost:8080/",
          "height": 206
        },
        "id": "S9BWgnjDyLts",
        "outputId": "38142a0c-900f-47a1-be7f-e278d3acb6a9"
      },
      "execution_count": 8,
      "outputs": [
        {
          "output_type": "execute_result",
          "data": {
            "text/plain": [
              "           File  Class ID Class Type\n",
              "0  M/mdb124.pgm         0          M\n",
              "1  M/mdb117.pgm         0          M\n",
              "2  M/mdb115.pgm         0          M\n",
              "3  M/mdb058.pgm         0          M\n",
              "4  M/mdb095.pgm         0          M"
            ],
            "text/html": [
              "\n",
              "  <div id=\"df-14524af9-f5d1-44a1-8481-aa2123133b7d\">\n",
              "    <div class=\"colab-df-container\">\n",
              "      <div>\n",
              "<style scoped>\n",
              "    .dataframe tbody tr th:only-of-type {\n",
              "        vertical-align: middle;\n",
              "    }\n",
              "\n",
              "    .dataframe tbody tr th {\n",
              "        vertical-align: top;\n",
              "    }\n",
              "\n",
              "    .dataframe thead th {\n",
              "        text-align: right;\n",
              "    }\n",
              "</style>\n",
              "<table border=\"1\" class=\"dataframe\">\n",
              "  <thead>\n",
              "    <tr style=\"text-align: right;\">\n",
              "      <th></th>\n",
              "      <th>File</th>\n",
              "      <th>Class ID</th>\n",
              "      <th>Class Type</th>\n",
              "    </tr>\n",
              "  </thead>\n",
              "  <tbody>\n",
              "    <tr>\n",
              "      <th>0</th>\n",
              "      <td>M/mdb124.pgm</td>\n",
              "      <td>0</td>\n",
              "      <td>M</td>\n",
              "    </tr>\n",
              "    <tr>\n",
              "      <th>1</th>\n",
              "      <td>M/mdb117.pgm</td>\n",
              "      <td>0</td>\n",
              "      <td>M</td>\n",
              "    </tr>\n",
              "    <tr>\n",
              "      <th>2</th>\n",
              "      <td>M/mdb115.pgm</td>\n",
              "      <td>0</td>\n",
              "      <td>M</td>\n",
              "    </tr>\n",
              "    <tr>\n",
              "      <th>3</th>\n",
              "      <td>M/mdb058.pgm</td>\n",
              "      <td>0</td>\n",
              "      <td>M</td>\n",
              "    </tr>\n",
              "    <tr>\n",
              "      <th>4</th>\n",
              "      <td>M/mdb095.pgm</td>\n",
              "      <td>0</td>\n",
              "      <td>M</td>\n",
              "    </tr>\n",
              "  </tbody>\n",
              "</table>\n",
              "</div>\n",
              "      <button class=\"colab-df-convert\" onclick=\"convertToInteractive('df-14524af9-f5d1-44a1-8481-aa2123133b7d')\"\n",
              "              title=\"Convert this dataframe to an interactive table.\"\n",
              "              style=\"display:none;\">\n",
              "        \n",
              "  <svg xmlns=\"http://www.w3.org/2000/svg\" height=\"24px\"viewBox=\"0 0 24 24\"\n",
              "       width=\"24px\">\n",
              "    <path d=\"M0 0h24v24H0V0z\" fill=\"none\"/>\n",
              "    <path d=\"M18.56 5.44l.94 2.06.94-2.06 2.06-.94-2.06-.94-.94-2.06-.94 2.06-2.06.94zm-11 1L8.5 8.5l.94-2.06 2.06-.94-2.06-.94L8.5 2.5l-.94 2.06-2.06.94zm10 10l.94 2.06.94-2.06 2.06-.94-2.06-.94-.94-2.06-.94 2.06-2.06.94z\"/><path d=\"M17.41 7.96l-1.37-1.37c-.4-.4-.92-.59-1.43-.59-.52 0-1.04.2-1.43.59L10.3 9.45l-7.72 7.72c-.78.78-.78 2.05 0 2.83L4 21.41c.39.39.9.59 1.41.59.51 0 1.02-.2 1.41-.59l7.78-7.78 2.81-2.81c.8-.78.8-2.07 0-2.86zM5.41 20L4 18.59l7.72-7.72 1.47 1.35L5.41 20z\"/>\n",
              "  </svg>\n",
              "      </button>\n",
              "      \n",
              "  <style>\n",
              "    .colab-df-container {\n",
              "      display:flex;\n",
              "      flex-wrap:wrap;\n",
              "      gap: 12px;\n",
              "    }\n",
              "\n",
              "    .colab-df-convert {\n",
              "      background-color: #E8F0FE;\n",
              "      border: none;\n",
              "      border-radius: 50%;\n",
              "      cursor: pointer;\n",
              "      display: none;\n",
              "      fill: #1967D2;\n",
              "      height: 32px;\n",
              "      padding: 0 0 0 0;\n",
              "      width: 32px;\n",
              "    }\n",
              "\n",
              "    .colab-df-convert:hover {\n",
              "      background-color: #E2EBFA;\n",
              "      box-shadow: 0px 1px 2px rgba(60, 64, 67, 0.3), 0px 1px 3px 1px rgba(60, 64, 67, 0.15);\n",
              "      fill: #174EA6;\n",
              "    }\n",
              "\n",
              "    [theme=dark] .colab-df-convert {\n",
              "      background-color: #3B4455;\n",
              "      fill: #D2E3FC;\n",
              "    }\n",
              "\n",
              "    [theme=dark] .colab-df-convert:hover {\n",
              "      background-color: #434B5C;\n",
              "      box-shadow: 0px 1px 3px 1px rgba(0, 0, 0, 0.15);\n",
              "      filter: drop-shadow(0px 1px 2px rgba(0, 0, 0, 0.3));\n",
              "      fill: #FFFFFF;\n",
              "    }\n",
              "  </style>\n",
              "\n",
              "      <script>\n",
              "        const buttonEl =\n",
              "          document.querySelector('#df-14524af9-f5d1-44a1-8481-aa2123133b7d button.colab-df-convert');\n",
              "        buttonEl.style.display =\n",
              "          google.colab.kernel.accessAllowed ? 'block' : 'none';\n",
              "\n",
              "        async function convertToInteractive(key) {\n",
              "          const element = document.querySelector('#df-14524af9-f5d1-44a1-8481-aa2123133b7d');\n",
              "          const dataTable =\n",
              "            await google.colab.kernel.invokeFunction('convertToInteractive',\n",
              "                                                     [key], {});\n",
              "          if (!dataTable) return;\n",
              "\n",
              "          const docLinkHtml = 'Like what you see? Visit the ' +\n",
              "            '<a target=\"_blank\" href=https://colab.research.google.com/notebooks/data_table.ipynb>data table notebook</a>'\n",
              "            + ' to learn more about interactive tables.';\n",
              "          element.innerHTML = '';\n",
              "          dataTable['output_type'] = 'display_data';\n",
              "          await google.colab.output.renderOutput(dataTable, element);\n",
              "          const docLink = document.createElement('div');\n",
              "          docLink.innerHTML = docLinkHtml;\n",
              "          element.appendChild(docLink);\n",
              "        }\n",
              "      </script>\n",
              "    </div>\n",
              "  </div>\n",
              "  "
            ]
          },
          "metadata": {},
          "execution_count": 8
        }
      ]
    },
    {
      "cell_type": "code",
      "source": [
        "SEED = 42\n",
        "train = train.sample(frac=1, random_state=SEED) \n",
        "train.index = np.arange(len(train)) # Reset indices\n",
        "train.head()\n",
        "     "
      ],
      "metadata": {
        "colab": {
          "base_uri": "https://localhost:8080/",
          "height": 206
        },
        "id": "oD_jP2b8yPIH",
        "outputId": "bb7aba84-7723-499b-8b80-af53f157bdf7"
      },
      "execution_count": 9,
      "outputs": [
        {
          "output_type": "execute_result",
          "data": {
            "text/plain": [
              "           File  Class ID Class Type\n",
              "0  N/mdb108.pgm         2          N\n",
              "1  N/mdb003.pgm         2          N\n",
              "2  N/mdb122.pgm         2          N\n",
              "3  M/mdb075.pgm         0          M\n",
              "4  B/mdb165.pgm         1          B"
            ],
            "text/html": [
              "\n",
              "  <div id=\"df-cd46cbc6-4c06-4cca-ac38-2c84973d063d\">\n",
              "    <div class=\"colab-df-container\">\n",
              "      <div>\n",
              "<style scoped>\n",
              "    .dataframe tbody tr th:only-of-type {\n",
              "        vertical-align: middle;\n",
              "    }\n",
              "\n",
              "    .dataframe tbody tr th {\n",
              "        vertical-align: top;\n",
              "    }\n",
              "\n",
              "    .dataframe thead th {\n",
              "        text-align: right;\n",
              "    }\n",
              "</style>\n",
              "<table border=\"1\" class=\"dataframe\">\n",
              "  <thead>\n",
              "    <tr style=\"text-align: right;\">\n",
              "      <th></th>\n",
              "      <th>File</th>\n",
              "      <th>Class ID</th>\n",
              "      <th>Class Type</th>\n",
              "    </tr>\n",
              "  </thead>\n",
              "  <tbody>\n",
              "    <tr>\n",
              "      <th>0</th>\n",
              "      <td>N/mdb108.pgm</td>\n",
              "      <td>2</td>\n",
              "      <td>N</td>\n",
              "    </tr>\n",
              "    <tr>\n",
              "      <th>1</th>\n",
              "      <td>N/mdb003.pgm</td>\n",
              "      <td>2</td>\n",
              "      <td>N</td>\n",
              "    </tr>\n",
              "    <tr>\n",
              "      <th>2</th>\n",
              "      <td>N/mdb122.pgm</td>\n",
              "      <td>2</td>\n",
              "      <td>N</td>\n",
              "    </tr>\n",
              "    <tr>\n",
              "      <th>3</th>\n",
              "      <td>M/mdb075.pgm</td>\n",
              "      <td>0</td>\n",
              "      <td>M</td>\n",
              "    </tr>\n",
              "    <tr>\n",
              "      <th>4</th>\n",
              "      <td>B/mdb165.pgm</td>\n",
              "      <td>1</td>\n",
              "      <td>B</td>\n",
              "    </tr>\n",
              "  </tbody>\n",
              "</table>\n",
              "</div>\n",
              "      <button class=\"colab-df-convert\" onclick=\"convertToInteractive('df-cd46cbc6-4c06-4cca-ac38-2c84973d063d')\"\n",
              "              title=\"Convert this dataframe to an interactive table.\"\n",
              "              style=\"display:none;\">\n",
              "        \n",
              "  <svg xmlns=\"http://www.w3.org/2000/svg\" height=\"24px\"viewBox=\"0 0 24 24\"\n",
              "       width=\"24px\">\n",
              "    <path d=\"M0 0h24v24H0V0z\" fill=\"none\"/>\n",
              "    <path d=\"M18.56 5.44l.94 2.06.94-2.06 2.06-.94-2.06-.94-.94-2.06-.94 2.06-2.06.94zm-11 1L8.5 8.5l.94-2.06 2.06-.94-2.06-.94L8.5 2.5l-.94 2.06-2.06.94zm10 10l.94 2.06.94-2.06 2.06-.94-2.06-.94-.94-2.06-.94 2.06-2.06.94z\"/><path d=\"M17.41 7.96l-1.37-1.37c-.4-.4-.92-.59-1.43-.59-.52 0-1.04.2-1.43.59L10.3 9.45l-7.72 7.72c-.78.78-.78 2.05 0 2.83L4 21.41c.39.39.9.59 1.41.59.51 0 1.02-.2 1.41-.59l7.78-7.78 2.81-2.81c.8-.78.8-2.07 0-2.86zM5.41 20L4 18.59l7.72-7.72 1.47 1.35L5.41 20z\"/>\n",
              "  </svg>\n",
              "      </button>\n",
              "      \n",
              "  <style>\n",
              "    .colab-df-container {\n",
              "      display:flex;\n",
              "      flex-wrap:wrap;\n",
              "      gap: 12px;\n",
              "    }\n",
              "\n",
              "    .colab-df-convert {\n",
              "      background-color: #E8F0FE;\n",
              "      border: none;\n",
              "      border-radius: 50%;\n",
              "      cursor: pointer;\n",
              "      display: none;\n",
              "      fill: #1967D2;\n",
              "      height: 32px;\n",
              "      padding: 0 0 0 0;\n",
              "      width: 32px;\n",
              "    }\n",
              "\n",
              "    .colab-df-convert:hover {\n",
              "      background-color: #E2EBFA;\n",
              "      box-shadow: 0px 1px 2px rgba(60, 64, 67, 0.3), 0px 1px 3px 1px rgba(60, 64, 67, 0.15);\n",
              "      fill: #174EA6;\n",
              "    }\n",
              "\n",
              "    [theme=dark] .colab-df-convert {\n",
              "      background-color: #3B4455;\n",
              "      fill: #D2E3FC;\n",
              "    }\n",
              "\n",
              "    [theme=dark] .colab-df-convert:hover {\n",
              "      background-color: #434B5C;\n",
              "      box-shadow: 0px 1px 3px 1px rgba(0, 0, 0, 0.15);\n",
              "      filter: drop-shadow(0px 1px 2px rgba(0, 0, 0, 0.3));\n",
              "      fill: #FFFFFF;\n",
              "    }\n",
              "  </style>\n",
              "\n",
              "      <script>\n",
              "        const buttonEl =\n",
              "          document.querySelector('#df-cd46cbc6-4c06-4cca-ac38-2c84973d063d button.colab-df-convert');\n",
              "        buttonEl.style.display =\n",
              "          google.colab.kernel.accessAllowed ? 'block' : 'none';\n",
              "\n",
              "        async function convertToInteractive(key) {\n",
              "          const element = document.querySelector('#df-cd46cbc6-4c06-4cca-ac38-2c84973d063d');\n",
              "          const dataTable =\n",
              "            await google.colab.kernel.invokeFunction('convertToInteractive',\n",
              "                                                     [key], {});\n",
              "          if (!dataTable) return;\n",
              "\n",
              "          const docLinkHtml = 'Like what you see? Visit the ' +\n",
              "            '<a target=\"_blank\" href=https://colab.research.google.com/notebooks/data_table.ipynb>data table notebook</a>'\n",
              "            + ' to learn more about interactive tables.';\n",
              "          element.innerHTML = '';\n",
              "          dataTable['output_type'] = 'display_data';\n",
              "          await google.colab.output.renderOutput(dataTable, element);\n",
              "          const docLink = document.createElement('div');\n",
              "          docLink.innerHTML = docLinkHtml;\n",
              "          element.appendChild(docLink);\n",
              "        }\n",
              "      </script>\n",
              "    </div>\n",
              "  </div>\n",
              "  "
            ]
          },
          "metadata": {},
          "execution_count": 9
        }
      ]
    },
    {
      "cell_type": "code",
      "source": [
        "\n",
        "plt.hist(train['Class ID'])\n",
        "plt.title('Frequency Histogram of Species')\n",
        "plt.figure(figsize=(12, 12))\n",
        "plt.show()"
      ],
      "metadata": {
        "colab": {
          "base_uri": "https://localhost:8080/",
          "height": 298
        },
        "id": "oEcIVdWlyQnB",
        "outputId": "c31db980-9a7f-44e8-de1b-ecd18b33b27b"
      },
      "execution_count": 10,
      "outputs": [
        {
          "output_type": "display_data",
          "data": {
            "text/plain": [
              "<Figure size 432x288 with 1 Axes>"
            ],
            "image/png": "[encoded data removed]"
          },
          "metadata": {
            "needs_background": "light"
          }
        },
        {
          "output_type": "display_data",
          "data": {
            "text/plain": [
              "<Figure size 864x864 with 0 Axes>"
            ]
          },
          "metadata": {}
        }
      ]
    },
    {
      "cell_type": "code",
      "source": [
        "\n",
        "IMAGE_SIZE = 224\n",
        "def read_image(filepath):\n",
        "    return cv2.imread(os.path.join(data_dir, filepath)) # Loading a color image is the default flag\n",
        "# Resize image to target size\n",
        "def resize_image(image, image_size):\n",
        "    return cv2.resize(image.copy(), image_size, interpolation=cv2.INTER_AREA)\n",
        "    "
      ],
      "metadata": {
        "id": "rl7NCyPMyTE0"
      },
      "execution_count": 11,
      "outputs": []
    },
    {
      "cell_type": "code",
      "source": [
        "X_train = np.zeros((train.shape[0], IMAGE_SIZE, IMAGE_SIZE, 3))\n",
        "for i, file in tqdm(enumerate(train['File'].values)):\n",
        "    image = read_image(file)\n",
        "    if image is not None:\n",
        "        X_train[i] = resize_image(image, (IMAGE_SIZE, IMAGE_SIZE))\n",
        "# Normalize the data\n",
        "X_Train = X_train / 255.\n",
        "print('Train Shape: {}'.format(X_Train.shape))\n",
        "     "
      ],
      "metadata": {
        "colab": {
          "base_uri": "https://localhost:8080/"
        },
        "id": "ye1gsZDIyYUZ",
        "outputId": "5536afd0-5050-41ef-ebd1-39c18a32542e"
      },
      "execution_count": 12,
      "outputs": [
        {
          "output_type": "stream",
          "name": "stderr",
          "text": [
            "322it [01:27,  3.68it/s]\n"
          ]
        },
        {
          "output_type": "stream",
          "name": "stdout",
          "text": [
            "Train Shape: (322, 224, 224, 3)\n"
          ]
        }
      ]
    },
    {
      "cell_type": "code",
      "source": [
        "Y_train = train['Class ID'].values\n",
        "Y_train = to_categorical(Y_train, num_classes=3)"
      ],
      "metadata": {
        "id": "x5OnvvGLyZ-s"
      },
      "execution_count": 13,
      "outputs": []
    },
    {
      "cell_type": "code",
      "source": [
        "\n",
        "BATCH_SIZE = 64\n",
        "# Split the train and validation sets \n",
        "X_train, X_val, Y_train, Y_val = train_test_split(X_Train, Y_train, test_size=0.2, random_state=SEED)\n",
        "     "
      ],
      "metadata": {
        "id": "IciPCpplybuY"
      },
      "execution_count": 14,
      "outputs": []
    },
    {
      "cell_type": "code",
      "source": [
        "\n",
        "def create_AlexNet ():\n",
        "    model = Sequential ()\n",
        "\n",
        "    # First Convolutionary Layer\n",
        "    \n",
        "    #With 96 11x11 kernels, stride 4, enabling padding and with one input\n",
        "    #de 224x224x3.\n",
        "    model.add (Conv2D (filters = 96, input_shape = (224,224,3), kernel_size = (11,11), strides = (4,4), padding = 'valid'))\n",
        "    model.add (Activation ('relu'))\n",
        "    # Pooling layer, with a 2x2 kernel, 2 stride and padding enabled.\n",
        "    model.add (MaxPooling2D (pool_size = (2,2), strides = (2,2), padding = 'valid'))\n",
        "    # Batch Normalisation before moving on to the fifth layer.\n",
        "    model.add (BatchNormalization ())\n",
        "\n",
        "    # Second Convolutionary Layer\n",
        "    \n",
        "    #With 256 11x11 kernels, 4 stride, enabling padding.\n",
        "    model.add (Conv2D (filters = 256, kernel_size = (11,11), strides = (1,1), padding = 'valid'))\n",
        "    model.add (Activation ('relu'))\n",
        "    # Pooling layer, with a 2x2 kernel, 2 stride and padding enabled.\n",
        "    model.add (MaxPooling2D (pool_size = (2,2), strides = (2,2), padding = 'valid'))\n",
        "    # Batch Normalisation before moving on to the fifth layer.\n",
        "    model.add (BatchNormalization ())\n",
        "\n",
        "    # Third Convolutionary Layer\n",
        "    \n",
        "    #With 384 3x3 kernels, stride of 1, enabling padding.\n",
        "    model.add (Conv2D (filters = 384, kernel_size = (3,3), strides = (1,1), padding = 'valid'))\n",
        "    model.add (Activation ('relu'))\n",
        "    # Batch Standardization\n",
        "    model.add (BatchNormalization ())\n",
        "\n",
        "    # Fourth Convolutionary Layer\n",
        "    \n",
        "    #With 384 3x3 kernels, stride of 1, enabling padding.\n",
        "    model.add (Conv2D (filters = 384, kernel_size = (3,3), strides = (1,1), padding = 'valid'))\n",
        "    model.add (Activation ('relu'))\n",
        "    # Batch Standardization\n",
        "    model.add (BatchNormalization ())\n",
        "\n",
        "    # Fifth Convolutionary Layer\n",
        "    \n",
        "    #With 256 3x3 kernels, stride of 1, enabling padding.\n",
        "    model.add (Conv2D (filters = 256, kernel_size = (3,3), strides = (1,1), padding = 'valid'))\n",
        "    model.add (Activation ('relu'))\n",
        "    # Pooling layer, with a 2x2 kernel, 2 stride and padding enabled.\n",
        "    model.add (MaxPooling2D (pool_size = (2,2), strides = (2,2), padding = 'valid'))\n",
        "    # Batch Standardization\n",
        "    model.add (BatchNormalization ())\n",
        "\n",
        "    # We go to the Fully Connected (FC) stage\n",
        "    model.add (Flatten ())\n",
        "    # First layer Dense\n",
        "    model.add (Dense (4096))\n",
        "    model.add (Activation ('relu'))\n",
        "    # Dropout is introduced with probability equal to 0.4 to avoid overfitting.\n",
        "    model.add (Dropout (0.4))\n",
        "    # Batch Standardization\n",
        "    model.add (BatchNormalization ())\n",
        "\n",
        "    # Second layer Dense\n",
        "    model.add (Dense (4096))\n",
        "    model.add (Activation ('relu'))\n",
        "    # # Dropout is introduced\n",
        "    model.add (Dropout (0.4))\n",
        "    # Batch Standardization\n",
        "    model.add (BatchNormalization ())\n",
        "\n",
        "    # Third layer Dense\n",
        "    model.add (Dense (1000))\n",
        "    model.add (Activation ('relu'))\n",
        "    # Dropout is introduced\n",
        "    model.add (Dropout (0.4))\n",
        "    # Batch Standardization\n",
        "    model.add (BatchNormalization ())\n",
        "\n",
        "    # Output layer with 2 nodes, since the classification will be made between 2 categories\n",
        "    model.add (Dense (17))\n",
        "    model.add (Dense (3, activation = 'softmax'))\n",
        "    \n",
        "    return model\n",
        "\n",
        "#AlexNet model is created as defined above\n",
        "model = create_AlexNet ()\n",
        "model.compile (loss = 'categorical_crossentropy', optimizer = 'adam', metrics = ['accuracy'])\n",
        "\n",
        "hist=model.fit(X_train, Y_train, validation_data=(X_val, Y_val), epochs=50)\n",
        "     "
      ],
      "metadata": {
        "colab": {
          "base_uri": "https://localhost:8080/"
        },
        "id": "0pd9Dxedy-kJ",
        "outputId": "c405845e-95b4-4caf-8029-bfb76b5346f7"
      },
      "execution_count": 15,
      "outputs": [
        {
          "output_type": "stream",
          "name": "stdout",
          "text": [
            "Epoch 1/50\n",
            "9/9 [==============================] - 57s 5s/step - loss: 3.4345 - accuracy: 0.3463 - val_loss: 19.0363 - val_accuracy: 0.7231\n",
            "Epoch 2/50\n",
            "9/9 [==============================] - 46s 5s/step - loss: 2.7331 - accuracy: 0.3696 - val_loss: 49.3976 - val_accuracy: 0.7231\n",
            "Epoch 3/50\n",
            "9/9 [==============================] - 50s 5s/step - loss: 2.1317 - accuracy: 0.3813 - val_loss: 28.5804 - val_accuracy: 0.7231\n",
            "Epoch 4/50\n",
            "9/9 [==============================] - 48s 5s/step - loss: 1.5550 - accuracy: 0.4163 - val_loss: 8.8148 - val_accuracy: 0.2769\n",
            "Epoch 5/50\n",
            "9/9 [==============================] - 46s 5s/step - loss: 1.2896 - accuracy: 0.4436 - val_loss: 36.3391 - val_accuracy: 0.1077\n",
            "Epoch 6/50\n",
            "9/9 [==============================] - 46s 5s/step - loss: 1.2987 - accuracy: 0.4514 - val_loss: 4.6553 - val_accuracy: 0.4308\n",
            "Epoch 7/50\n",
            "9/9 [==============================] - 47s 5s/step - loss: 1.1477 - accuracy: 0.4669 - val_loss: 9.6070 - val_accuracy: 0.1846\n",
            "Epoch 8/50\n",
            "9/9 [==============================] - 49s 5s/step - loss: 1.2033 - accuracy: 0.5253 - val_loss: 4.1247 - val_accuracy: 0.3692\n",
            "Epoch 9/50\n",
            "9/9 [==============================] - 47s 5s/step - loss: 1.0782 - accuracy: 0.5175 - val_loss: 4.4073 - val_accuracy: 0.3231\n",
            "Epoch 10/50\n",
            "9/9 [==============================] - 47s 5s/step - loss: 1.0589 - accuracy: 0.5525 - val_loss: 1.6194 - val_accuracy: 0.3846\n",
            "Epoch 11/50\n",
            "9/9 [==============================] - 46s 5s/step - loss: 1.1089 - accuracy: 0.5136 - val_loss: 2.9381 - val_accuracy: 0.3692\n",
            "Epoch 12/50\n",
            "9/9 [==============================] - 49s 5s/step - loss: 1.0837 - accuracy: 0.5214 - val_loss: 2.3892 - val_accuracy: 0.3692\n",
            "Epoch 13/50\n",
            "9/9 [==============================] - 46s 5s/step - loss: 1.1018 - accuracy: 0.5292 - val_loss: 1.6271 - val_accuracy: 0.3846\n",
            "Epoch 14/50\n",
            "9/9 [==============================] - 46s 5s/step - loss: 1.0379 - accuracy: 0.5486 - val_loss: 1.7399 - val_accuracy: 0.3692\n",
            "Epoch 15/50\n",
            "9/9 [==============================] - 50s 6s/step - loss: 1.0529 - accuracy: 0.5603 - val_loss: 1.6519 - val_accuracy: 0.3385\n",
            "Epoch 16/50\n",
            "9/9 [==============================] - 45s 5s/step - loss: 1.0031 - accuracy: 0.5914 - val_loss: 2.4180 - val_accuracy: 0.3846\n",
            "Epoch 17/50\n",
            "9/9 [==============================] - 45s 5s/step - loss: 1.0319 - accuracy: 0.5992 - val_loss: 1.1847 - val_accuracy: 0.5231\n",
            "Epoch 18/50\n",
            "9/9 [==============================] - 45s 5s/step - loss: 0.9389 - accuracy: 0.6031 - val_loss: 1.2531 - val_accuracy: 0.3846\n",
            "Epoch 19/50\n",
            "9/9 [==============================] - 46s 5s/step - loss: 0.9527 - accuracy: 0.5681 - val_loss: 1.2452 - val_accuracy: 0.5231\n",
            "Epoch 20/50\n",
            "9/9 [==============================] - 45s 5s/step - loss: 0.9108 - accuracy: 0.6070 - val_loss: 1.5825 - val_accuracy: 0.4154\n",
            "Epoch 21/50\n",
            "9/9 [==============================] - 45s 5s/step - loss: 0.9810 - accuracy: 0.5525 - val_loss: 1.1895 - val_accuracy: 0.4769\n",
            "Epoch 22/50\n",
            "9/9 [==============================] - 46s 5s/step - loss: 0.9764 - accuracy: 0.5837 - val_loss: 1.5127 - val_accuracy: 0.4308\n",
            "Epoch 23/50\n",
            "9/9 [==============================] - 45s 5s/step - loss: 0.9702 - accuracy: 0.5409 - val_loss: 1.2225 - val_accuracy: 0.4769\n",
            "Epoch 24/50\n",
            "9/9 [==============================] - 45s 5s/step - loss: 0.9822 - accuracy: 0.5409 - val_loss: 1.1286 - val_accuracy: 0.5385\n",
            "Epoch 25/50\n",
            "9/9 [==============================] - 47s 5s/step - loss: 0.8786 - accuracy: 0.5875 - val_loss: 1.3622 - val_accuracy: 0.4000\n",
            "Epoch 26/50\n",
            "9/9 [==============================] - 44s 5s/step - loss: 0.8868 - accuracy: 0.6148 - val_loss: 1.1549 - val_accuracy: 0.4615\n",
            "Epoch 27/50\n",
            "9/9 [==============================] - 45s 5s/step - loss: 0.8579 - accuracy: 0.6304 - val_loss: 1.3894 - val_accuracy: 0.3538\n",
            "Epoch 28/50\n",
            "9/9 [==============================] - 45s 5s/step - loss: 0.9019 - accuracy: 0.6031 - val_loss: 1.2806 - val_accuracy: 0.3385\n",
            "Epoch 29/50\n",
            "9/9 [==============================] - 45s 5s/step - loss: 0.9103 - accuracy: 0.5798 - val_loss: 1.2292 - val_accuracy: 0.5231\n",
            "Epoch 30/50\n",
            "9/9 [==============================] - 45s 5s/step - loss: 0.9061 - accuracy: 0.5875 - val_loss: 1.0941 - val_accuracy: 0.5385\n",
            "Epoch 31/50\n",
            "9/9 [==============================] - 47s 5s/step - loss: 0.8987 - accuracy: 0.6148 - val_loss: 0.9153 - val_accuracy: 0.6154\n",
            "Epoch 32/50\n",
            "9/9 [==============================] - 45s 5s/step - loss: 0.8502 - accuracy: 0.6109 - val_loss: 1.0350 - val_accuracy: 0.7077\n",
            "Epoch 33/50\n",
            "9/9 [==============================] - 46s 5s/step - loss: 0.7492 - accuracy: 0.7082 - val_loss: 1.2512 - val_accuracy: 0.6615\n",
            "Epoch 34/50\n",
            "9/9 [==============================] - 47s 5s/step - loss: 0.7696 - accuracy: 0.6693 - val_loss: 1.3254 - val_accuracy: 0.5692\n",
            "Epoch 35/50\n",
            "9/9 [==============================] - 46s 5s/step - loss: 0.8703 - accuracy: 0.6304 - val_loss: 1.3025 - val_accuracy: 0.4615\n",
            "Epoch 36/50\n",
            "9/9 [==============================] - 48s 5s/step - loss: 0.8021 - accuracy: 0.6498 - val_loss: 1.4907 - val_accuracy: 0.3692\n",
            "Epoch 37/50\n",
            "9/9 [==============================] - 46s 5s/step - loss: 0.8579 - accuracy: 0.6070 - val_loss: 1.1724 - val_accuracy: 0.4923\n",
            "Epoch 38/50\n",
            "9/9 [==============================] - 45s 5s/step - loss: 0.7211 - accuracy: 0.7004 - val_loss: 1.0373 - val_accuracy: 0.5385\n",
            "Epoch 39/50\n",
            "9/9 [==============================] - 48s 5s/step - loss: 0.7283 - accuracy: 0.6887 - val_loss: 1.1380 - val_accuracy: 0.5846\n",
            "Epoch 40/50\n",
            "9/9 [==============================] - 45s 5s/step - loss: 0.6460 - accuracy: 0.7315 - val_loss: 1.3238 - val_accuracy: 0.5231\n",
            "Epoch 41/50\n",
            "9/9 [==============================] - 52s 5s/step - loss: 0.6673 - accuracy: 0.7160 - val_loss: 1.6265 - val_accuracy: 0.4462\n",
            "Epoch 42/50\n",
            "9/9 [==============================] - 45s 5s/step - loss: 0.7466 - accuracy: 0.6732 - val_loss: 1.4287 - val_accuracy: 0.5846\n",
            "Epoch 43/50\n",
            "9/9 [==============================] - 45s 5s/step - loss: 0.6315 - accuracy: 0.7276 - val_loss: 1.4194 - val_accuracy: 0.6615\n",
            "Epoch 44/50\n",
            "9/9 [==============================] - 48s 5s/step - loss: 0.7457 - accuracy: 0.6965 - val_loss: 1.3682 - val_accuracy: 0.7231\n",
            "Epoch 45/50\n",
            "9/9 [==============================] - 44s 5s/step - loss: 0.6450 - accuracy: 0.7082 - val_loss: 1.8161 - val_accuracy: 0.6000\n",
            "Epoch 46/50\n",
            "9/9 [==============================] - 44s 5s/step - loss: 0.6361 - accuracy: 0.7315 - val_loss: 1.4599 - val_accuracy: 0.6000\n",
            "Epoch 47/50\n",
            "9/9 [==============================] - 47s 5s/step - loss: 0.6371 - accuracy: 0.7043 - val_loss: 2.1903 - val_accuracy: 0.4769\n",
            "Epoch 48/50\n",
            "9/9 [==============================] - 45s 5s/step - loss: 0.6036 - accuracy: 0.7354 - val_loss: 1.4026 - val_accuracy: 0.5846\n",
            "Epoch 49/50\n",
            "9/9 [==============================] - 45s 5s/step - loss: 0.5771 - accuracy: 0.7471 - val_loss: 2.2995 - val_accuracy: 0.5231\n",
            "Epoch 50/50\n",
            "9/9 [==============================] - 48s 5s/step - loss: 0.5192 - accuracy: 0.7938 - val_loss: 2.2472 - val_accuracy: 0.6308\n"
          ]
        }
      ]
    },
    {
      "cell_type": "code",
      "source": [
        "\n",
        "Y_pred = model.predict(X_val)\n",
        "Y_pred = np.argmax(Y_pred, axis=1)\n",
        "Y_true = np.argmax(Y_val, axis=1)\n",
        "cm = confusion_matrix(Y_true, Y_pred)\n",
        "plt.figure(figsize=(12, 12))\n",
        "ax = sns.heatmap(cm, cmap=plt.cm.Greens, annot=True, square=True)\n",
        "ax.set_ylabel('Actual', fontsize=40)\n",
        "ax.set_xlabel('Predicted', fontsize=40)"
      ],
      "metadata": {
        "colab": {
          "base_uri": "https://localhost:8080/",
          "height": 728
        },
        "id": "rYm_Qp6FzPgt",
        "outputId": "86d1546b-c1cb-41aa-d969-30f6a783dbab"
      },
      "execution_count": 16,
      "outputs": [
        {
          "output_type": "stream",
          "name": "stdout",
          "text": [
            "3/3 [==============================] - 3s 648ms/step\n"
          ]
        },
        {
          "output_type": "execute_result",
          "data": {
            "text/plain": [
              "Text(0.5, 145.31999999999996, 'Predicted')"
            ]
          },
          "metadata": {},
          "execution_count": 16
        },
        {
          "output_type": "display_data",
          "data": {
            "text/plain": [
              "<Figure size 864x864 with 2 Axes>"
            ],
            "image/png": "[encoded data removed]"
          },
          "metadata": {
            "needs_background": "light"
          }
        }
      ]
    },
    {
      "cell_type": "code",
      "source": [
        "\n",
        "# accuracy plot \n",
        "plt.plot(hist.history['accuracy'])\n",
        "plt.plot(hist.history['val_accuracy'])\n",
        "plt.title('model accuracy')\n",
        "plt.ylabel('accuracy')\n",
        "plt.xlabel('epoch')\n",
        "plt.legend(['train', 'test'], loc='upper left')\n",
        "plt.show()\n",
        "\n",
        "# loss plot\n",
        "plt.plot(hist.history['loss'])\n",
        "plt.plot(hist.history['val_loss'])\n",
        "plt.title('model loss')\n",
        "plt.ylabel('loss')\n",
        "plt.xlabel('epoch')\n",
        "plt.legend(['train', 'test'], loc='upper left')\n",
        "plt.show()\n",
        "     "
      ],
      "metadata": {
        "colab": {
          "base_uri": "https://localhost:8080/",
          "height": 573
        },
        "id": "hfsRug9-zRgm",
        "outputId": "c8aa6619-ba4e-4f77-d0ef-6a375bfc6f4f"
      },
      "execution_count": 17,
      "outputs": [
        {
          "output_type": "display_data",
          "data": {
            "text/plain": [
              "<Figure size 432x288 with 1 Axes>"
            ],
            "image/png": "[encoded data removed]"
          },
          "metadata": {
            "needs_background": "light"
          }
        },
        {
          "output_type": "display_data",
          "data": {
            "text/plain": [
              "<Figure size 432x288 with 1 Axes>"
            ],
            "image/png": "[encoded data removed]"
          },
          "metadata": {
            "needs_background": "light"
          }
        }
      ]
    },
    {
      "cell_type": "code",
      "source": [
        "\n",
        "from skimage import io\n",
        "#path='imbalanced/Scratch/Scratch_400.jpg'\n",
        "import keras.utils as image\n",
        "img = image.load_img('/content/drive/MyDrive/Internship/Breast_Cancer_Dataset/M/mdb095.pgm', grayscale=False, target_size=(224, 224))\n",
        "show_img=image.load_img('/content/drive/MyDrive/Internship/Breast_Cancer_Dataset/M/mdb095.pgm', grayscale=False, target_size=(224, 224))\n",
        "disease_class=['M','B','N']\n",
        "x = image.img_to_array(img)\n",
        "x = np.expand_dims(x, axis = 0)\n",
        "x /= 255\n",
        "custom = model.predict(x)\n",
        "print(custom[0])\n",
        "\n",
        "plt.imshow(show_img)\n",
        "plt.show()\n",
        "\n",
        "a=custom[0]\n",
        "ind=np.argmax(a)\n",
        "        \n",
        "print('Prediction:',disease_class[ind])"
      ],
      "metadata": {
        "colab": {
          "base_uri": "https://localhost:8080/",
          "height": 321
        },
        "id": "n5ZrW9K2zSVb",
        "outputId": "be10abd4-017f-45e1-aa04-158e623eaaf1"
      },
      "execution_count": 18,
      "outputs": [
        {
          "output_type": "stream",
          "name": "stdout",
          "text": [
            "1/1 [==============================] - 0s 116ms/step\n",
            "[2.1829571e-04 2.1364561e-03 9.9764520e-01]\n"
          ]
        },
        {
          "output_type": "display_data",
          "data": {
            "text/plain": [
              "<Figure size 432x288 with 1 Axes>"
            ],
            "image/png": "[encoded data removed]"
          },
          "metadata": {
            "needs_background": "light"
          }
        },
        {
          "output_type": "stream",
          "name": "stdout",
          "text": [
            "Prediction: N\n"
          ]
        }
      ]
    }
  ]
}